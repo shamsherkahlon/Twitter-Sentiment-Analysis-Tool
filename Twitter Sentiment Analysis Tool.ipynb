{
 "cells": [
  {
   "cell_type": "code",
   "execution_count": 14,
   "metadata": {},
   "outputs": [],
   "source": [
    "#import all necessary libraries\n",
    "import nltk\n",
    "import sys\n",
    "import matplotlib.pyplot as plt\n",
    "from textblob import TextBlob\n",
    "import tweepy\n",
    "import numpy as np\n",
    "%matplotlib inline"
   ]
  },
  {
   "cell_type": "code",
   "execution_count": 15,
   "metadata": {},
   "outputs": [],
   "source": [
    "#defining a percentage function\n",
    "def percentage(part,whole):\n",
    "    return 100*(part/whole)"
   ]
  },
  {
   "cell_type": "code",
   "execution_count": 16,
   "metadata": {},
   "outputs": [],
   "source": [
    "#refering to all the api information\n",
    "consumerkey='PRnQ0lIdrGKh05qM02H4ZtFK2'\n",
    "consumersecret='iyZqZHHRXYLDKGQGcpo3aqulnarKy2IvdVPpLD0uta9OovINGK'\n",
    "accesstoken='57010702-3TEHulRkZ3HEfQ4jSjJfOfWNJ6mwY6RAUoUSywcQB'\n",
    "accesstokensecret='B1ppEAvmB2x2QGoJwrI76HVBIQrxRVh11IzwocGvlmKoO'"
   ]
  },
  {
   "cell_type": "code",
   "execution_count": 17,
   "metadata": {},
   "outputs": [],
   "source": [
    "#setting up connection with the api\n",
    "auth = tweepy.OAuthHandler(consumerkey, consumersecret)\n",
    "auth.set_access_token(accesstoken, accesstokensecret)\n",
    "api = tweepy.API(auth)"
   ]
  },
  {
   "cell_type": "code",
   "execution_count": 18,
   "metadata": {},
   "outputs": [
    {
     "name": "stdout",
     "output_type": "stream",
     "text": [
      "Enter Keyword/Tag to search about: trump\n",
      "Enter how many tweets to search: 300\n"
     ]
    }
   ],
   "source": [
    "# Search for the Term and define number of tweets #\n",
    "searchTerm = input(\"Enter Keyword/Tag to search about: \")\n",
    "NoOfTerms = int(input(\"Enter how many tweets to search: \"))\n",
    "\n",
    "#getting no. of tweets and seach term together\n",
    "tweets = tweepy.Cursor(api.search, q=searchTerm).items(NoOfTerms)\n",
    "\n",
    "#defining variables\n",
    "positive=0\n",
    "negative=0\n",
    "neutral=0\n",
    "polarity=0\n",
    "\n",
    "#defining conditions for the values of the variables\n",
    "for tweet in tweets:\n",
    "    analysis=TextBlob(tweet.text)\n",
    "    polarity+=analysis.sentiment.polarity\n",
    "    \n",
    "    if (analysis.sentiment.polarity == 0):\n",
    "        neutral+=1\n",
    "    elif (analysis.sentiment.polarity > 0):\n",
    "        positive+=1\n",
    "    elif(analysis.sentiment.polarity < 0):\n",
    "        negative+=1\n",
    "    \n",
    "    \n",
    " # Generate the percentages using previously created function percentage #   \n",
    "positive=percentage(positive,NoOfTerms)\n",
    "negative=percentage(negative,NoOfTerms)\n",
    "neutral=percentage(neutral,NoOfTerms)\n",
    "\n",
    "positive=format(positive,'.2f')\n",
    "negative=format(negative,'.2f')\n",
    "neutral=format(neutral,'.2f')\n",
    "\n",
    "\n",
    "\n",
    "\n",
    "\n",
    "\n",
    "\n",
    "\n",
    "\n",
    "\n",
    "\n",
    "\n",
    "\n"
   ]
  },
  {
   "cell_type": "code",
   "execution_count": 19,
   "metadata": {},
   "outputs": [
    {
     "data": {
      "text/plain": [
       "(-1.110283975478645,\n",
       " 1.1151481257498035,\n",
       " -1.1247112433390614,\n",
       " 1.1011767258732887)"
      ]
     },
     "execution_count": 19,
     "metadata": {},
     "output_type": "execute_result"
    },
    {
     "data": {
      "image/png": "[encoded data removed]",
      "text/plain": [
       "<matplotlib.figure.Figure at 0x282f781a0b8>"
      ]
     },
     "metadata": {},
     "output_type": "display_data"
    }
   ],
   "source": [
    "#printing the pie chart to see the results\n",
    "\n",
    "\n",
    "labels = ['positive['+str(positive)+'%]','negative['+str(negative)+'%]','neutral['+str(neutral)+'%]']#defining labels\n",
    "sizes = [positive,negative,neutral] #defining the sizes on pie chart\n",
    "color=['green','red','blue'] #defining colors\n",
    "\n",
    "\n",
    "fig, ax = plt.subplots() #creating a figure for the pie chart\n",
    "ax.pie(sizes,labels=labels, autopct='%1.1f%%',\n",
    "        shadow=True,colors=color,startangle=90)\n",
    "ax.axis('equal')  # Equal aspect ratio ensures that pie is drawn as a circle.\n",
    "\n",
    "\n",
    "\n",
    "\n",
    "\n",
    "\n",
    "\n",
    "\n",
    "\n",
    "\n",
    "\n",
    "\n",
    "\n",
    "\n",
    "\n"
   ]
  }
 ],
 "metadata": {
  "kernelspec": {
   "display_name": "Python 3",
   "language": "python",
   "name": "python3"
  },
  "language_info": {
   "codemirror_mode": {
    "name": "ipython",
    "version": 3
   },
   "file_extension": ".py",
   "mimetype": "text/x-python",
   "name": "python",
   "nbconvert_exporter": "python",
   "pygments_lexer": "ipython3",
   "version": "3.6.4"
  }
 },
 "nbformat": 4,
 "nbformat_minor": 2
}
